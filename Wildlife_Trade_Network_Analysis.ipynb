{
  "nbformat": 4,
  "nbformat_minor": 0,
  "metadata": {
    "colab": {
      "name": "Wildlife_Trade_Network_Analysis.ipynb",
      "provenance": [],
      "collapsed_sections": [],
      "toc_visible": true,
      "include_colab_link": true
    },
    "kernelspec": {
      "display_name": "R",
      "language": "R",
      "name": "ir"
    },
    "language_info": {
      "codemirror_mode": "r",
      "file_extension": ".r",
      "mimetype": "text/x-r-source",
      "name": "R",
      "pygments_lexer": "r",
      "version": "3.2.3"
    }
  },
  "cells": [
    {
      "cell_type": "markdown",
      "metadata": {
        "id": "view-in-github",
        "colab_type": "text"
      },
      "source": [
        "<a href=\"https://colab.research.google.com/github/devansong/network_workshop/blob/master/Wildlife_Trade_Network_Analysis.ipynb\" target=\"_parent\"><img src=\"https://colab.research.google.com/assets/colab-badge.svg\" alt=\"Open In Colab\"/></a>"
      ]
    },
    {
      "cell_type": "markdown",
      "metadata": {
        "Collapsed": "false",
        "colab_type": "text",
        "id": "jdnkd2Mou52F"
      },
      "source": [
        "# URI Illegal Wildlife Trafficking: R workshop in network analysis"
      ]
    },
    {
      "cell_type": "markdown",
      "metadata": {
        "id": "afFlaGTlN8cb",
        "colab_type": "text"
      },
      "source": [
        ""
      ]
    },
    {
      "cell_type": "markdown",
      "metadata": {
        "Collapsed": "false",
        "id": "Hef8wD98uBcz",
        "colab_type": "text"
      },
      "source": [
        "## Setup"
      ]
    },
    {
      "cell_type": "markdown",
      "metadata": {
        "Collapsed": "false",
        "id": "sbUQyBCquBc1",
        "colab_type": "text"
      },
      "source": [
        "This section installs and loads all the packages we need, and downloads the CITES dataset using the [citesdb](https://github.com/ropensci/citesdb) package.  We'll call this dataset `master`.\n",
        "\n",
        "Click on the cell and press the play button, or press shift+enter to run the code\n",
        "\n",
        "This takes approximately 10-15 minutes to run. We will return to the powerpoint introductions after you run this code."
      ]
    },
    {
      "cell_type": "code",
      "metadata": {
        "Collapsed": "false",
        "colab_type": "code",
        "id": "Sv1KY-dIsea6",
        "colab": {}
      },
      "source": [
        "install.packages(\"igraph\")\n",
        "devtools::install_github(\"ropensci/citesdb\")\n",
        "\n",
        "library(igraph)\n",
        "library(tidyverse)\n",
        "library(citesdb)\n",
        "\n",
        "# Collect dataset, and remove NA's from the Importer/Exporter columns\n",
        "cites_db_download()\n",
        "master <- cites_shipments() %>% \n",
        "    collect()\n",
        "master$Importer[is.na(master$Importer)] <- \"\"\n",
        "master$Exporter[is.na(master$Exporter)] <- \"\""
      ],
      "execution_count": 0,
      "outputs": []
    },
    {
      "cell_type": "markdown",
      "metadata": {
        "Collapsed": "false",
        "colab_type": "text",
        "id": "Kkck49milzTe"
      },
      "source": [
        "## Activity 0: Test\n",
        "Before we begin the class, let's make sure we can run some simple code and plot a graph. \n",
        "Click on each cell of code and press \"shift + enter\""
      ]
    },
    {
      "cell_type": "code",
      "metadata": {
        "Collapsed": "false",
        "colab_type": "code",
        "id": "5Tq3hqPUmQOu",
        "colab": {}
      },
      "source": [
        "# Anything in a coding cell that has a \"#\" in front is just a commeent about the code\n",
        "\n",
        "# I am creating a variable x, that consists of 5 different numbers\n",
        "x <- c(1,3,6,9,12)\n",
        "\n",
        "# I am now creating a variable y, that consists of 5 different numbers\n",
        "y <- c(1.5,2,7,8,15)\n",
        "\n",
        "#I now want to plot x against y in a simple scatter plot \n",
        "plot(\n",
        "    x, y, \n",
        "    xlab=\"x axis\", \n",
        "    ylab=\"y axis\", \n",
        "    main=\"My nice little plot with fairly large blue dots\",\n",
        "    ylim=c(0,20),\n",
        "    xlim=c(0,15), \n",
        "    pch=19,\n",
        "    col=\"blue\",\n",
        "    cex=3\n",
        ")"
      ],
      "execution_count": 0,
      "outputs": []
    },
    {
      "cell_type": "markdown",
      "metadata": {
        "Collapsed": "false",
        "colab_type": "text",
        "id": "razF6ZtfmgA0"
      },
      "source": [
        "If you see a simple scatter plot with 5 data points, you have successfully run R code!"
      ]
    },
    {
      "cell_type": "markdown",
      "metadata": {
        "id": "Gx4MvqXvKqxG",
        "colab_type": "text"
      },
      "source": [
        "##Activity 1: Examine CITES data"
      ]
    },
    {
      "cell_type": "markdown",
      "metadata": {
        "Collapsed": "false",
        "colab_type": "text",
        "id": "HzEug10N5HjK"
      },
      "source": [
        "### 1.1 Explore the structure (str) of the CITES dataset"
      ]
    },
    {
      "cell_type": "code",
      "metadata": {
        "Collapsed": "false",
        "colab_type": "code",
        "id": "cyRptfMN0GiW",
        "colab": {}
      },
      "source": [
        "str(master)"
      ],
      "execution_count": 0,
      "outputs": []
    },
    {
      "cell_type": "markdown",
      "metadata": {
        "id": "Yk_b2OWTLCH7",
        "colab_type": "text"
      },
      "source": [
        "### 1.2 Print the first 6 rows of data"
      ]
    },
    {
      "cell_type": "code",
      "metadata": {
        "Collapsed": "false",
        "colab_type": "code",
        "id": "a1vBzE3x0kdg",
        "colab": {}
      },
      "source": [
        "head(master)"
      ],
      "execution_count": 0,
      "outputs": []
    },
    {
      "cell_type": "markdown",
      "metadata": {
        "id": "ss3p-Wr7LJp9",
        "colab_type": "text"
      },
      "source": [
        "### 1.3 Explore other properties of the dataset"
      ]
    },
    {
      "cell_type": "code",
      "metadata": {
        "Collapsed": "false",
        "colab_type": "code",
        "id": "YUTpetdy0lfr",
        "colab": {}
      },
      "source": [
        "min(master$Year) "
      ],
      "execution_count": 0,
      "outputs": []
    },
    {
      "cell_type": "code",
      "metadata": {
        "Collapsed": "false",
        "colab_type": "code",
        "id": "zui5AoO00tpM",
        "colab": {}
      },
      "source": [
        "max(master$Year) "
      ],
      "execution_count": 0,
      "outputs": []
    },
    {
      "cell_type": "code",
      "metadata": {
        "Collapsed": "false",
        "colab_type": "code",
        "id": "keTCPTKd0uNS",
        "colab": {}
      },
      "source": [
        "table(master$Class) "
      ],
      "execution_count": 0,
      "outputs": []
    },
    {
      "cell_type": "code",
      "metadata": {
        "Collapsed": "false",
        "colab_type": "code",
        "id": "rQrmh0AF0wvB",
        "colab": {}
      },
      "source": [
        "sort(table(master$Class))"
      ],
      "execution_count": 0,
      "outputs": []
    },
    {
      "cell_type": "code",
      "metadata": {
        "Collapsed": "false",
        "colab_type": "code",
        "id": "iAMVul-405Gz",
        "colab": {}
      },
      "source": [
        "plot(sort(table(master$Class)))"
      ],
      "execution_count": 0,
      "outputs": []
    },
    {
      "cell_type": "markdown",
      "metadata": {
        "id": "LJJAK8O6LiP2",
        "colab_type": "text"
      },
      "source": [
        "Answer the following questions: \n",
        "\n",
        "a. how many shipments does your data have?  \n",
        "b. how many different classes are represented in your dataset?  \n",
        "c. what timeframe does your dataset span? \n"
      ]
    },
    {
      "cell_type": "markdown",
      "metadata": {
        "id": "vsQvWuqZMcmX",
        "colab_type": "text"
      },
      "source": [
        "## Activity 2: Convert CITES data to network and visualize"
      ]
    },
    {
      "cell_type": "markdown",
      "metadata": {
        "Collapsed": "false",
        "colab_type": "text",
        "id": "0Haa1pQ-47KD"
      },
      "source": [
        "##### 2.1 Run Functions"
      ]
    },
    {
      "cell_type": "markdown",
      "metadata": {
        "id": "z1Sjcgivx_tU",
        "colab_type": "text"
      },
      "source": [
        "These functions will be used throughout this workshop to make things easier.\n",
        "\n",
        "`create_network` makes an igraph network from a dataset, which we can use for further analysis and visualization.\n",
        "\n",
        "`plot_network` allows us to plot an igraph network in a nicer way than by default, and easily change the edge weights"
      ]
    },
    {
      "cell_type": "code",
      "metadata": {
        "Collapsed": "false",
        "colab_type": "code",
        "id": "B4dkWEyE1h8E",
        "colab": {}
      },
      "source": [
        "create_network <- function(data){\n",
        "    # create a tibble of unique Exporter and Importer countries\n",
        "    # this is used for the network nodes\n",
        "    sources <- data %>%\n",
        "        distinct(Exporter) %>%\n",
        "        rename(label = Exporter)  # all exporting countries (treated as country of origin)\n",
        "    destinations <- data %>%\n",
        "        distinct(Importer) %>%\n",
        "        rename(label = Importer)  # all importing countries\n",
        "    nodes <- full_join(sources, destinations, by = \"label\")  # all unique countries in your dataset \n",
        "    nodes <- nodes %>%\n",
        "        rowid_to_column(\"id\")  # create numerical id for each unique country \n",
        "\n",
        "    # create a tibble with export id, import id, and weight by number of shipments\n",
        "    # this is used for the network edges\n",
        "    per_route <- data %>%  \n",
        "        group_by(Exporter, Importer) %>%\n",
        "        summarise(weight = n()) %>% #number of observations in the current group\n",
        "        ungroup() #removes grouping \n",
        "    edges <- per_route %>% \n",
        "        left_join(nodes, by = c(\"Exporter\" = \"label\")) %>% \n",
        "        rename(from = id)\n",
        "    edges <- edges %>% \n",
        "        left_join(nodes, by = c(\"Importer\" = \"label\")) %>% \n",
        "        rename(to = id)\n",
        "    edges <- select(edges, from, to, weight)\n",
        "\n",
        "    # create a directed igraph network from the edges and nodes defined above   \n",
        "    net <- graph_from_data_frame(d=edges, vertices=nodes, directed=T)\n",
        "    return(net)\n",
        "}\n",
        "\n",
        "\n",
        "plot_network <- function(\n",
        "    igraph_network,\n",
        "    title=\"trade network\",\n",
        "    weight_factor=0.01, # scaling factor for edge weights\n",
        "    layout=layout_with_mds  # igraph layour\n",
        "    ){\n",
        "    E(igraph_network)$width <- E(igraph_network)$weight*weight_factor\n",
        "    l <- layout(igraph_network)\n",
        "    plot(\n",
        "        # TODO: adjust plot size, etc to make look niceer in Colab\n",
        "        igraph_network,\n",
        "        edge.color= rgb(70/255, 130/255, 180/255, 0.6),\n",
        "        edge.arrow.size=.001, \n",
        "        vertex.size = 13, \n",
        "        vertex.color= rgb(255/255,190/255,0/255, 0.8),\n",
        "        vertex.label = V(igraph_network)$id,\n",
        "        vertex.label.cex = 0.6, \n",
        "        vertex.label.color = \"black\", \n",
        "        rescale=T, \n",
        "        layout=l*3.0, \n",
        "        main=title) \n",
        "}"
      ],
      "execution_count": 0,
      "outputs": []
    },
    {
      "cell_type": "markdown",
      "metadata": {
        "Collapsed": "false",
        "colab_type": "text",
        "id": "CYMCfbeljFk9"
      },
      "source": [
        "### 2.2 Create and visualize network"
      ]
    },
    {
      "cell_type": "markdown",
      "metadata": {
        "id": "pmy4wzKj14su",
        "colab_type": "text"
      },
      "source": [
        "Now we'll start to explore the network, where each node is a country. See Annex 3 of the [CITES Trade Database Guide](https://trade.cites.org/cites_trade_guidelines/en-CITES_Trade_Database_Guide.pdf) to look up the country name from its 2-letter code."
      ]
    },
    {
      "cell_type": "code",
      "metadata": {
        "Collapsed": "false",
        "colab_type": "code",
        "id": "KAKMvCnp5VjO",
        "colab": {}
      },
      "source": [
        "master_network <-create_network(master) "
      ],
      "execution_count": 0,
      "outputs": []
    },
    {
      "cell_type": "code",
      "metadata": {
        "Collapsed": "false",
        "colab_type": "code",
        "id": "SowE_q285Xvh",
        "colab": {}
      },
      "source": [
        "plot_network(master_network, weight_factor=0.00002, layout = layout_randomly)"
      ],
      "execution_count": 0,
      "outputs": []
    },
    {
      "cell_type": "markdown",
      "metadata": {
        "id": "czEglQrJ2zmT",
        "colab_type": "text"
      },
      "source": [
        "What an uninformative mess! This doesn't really tell us anything. \n",
        "We'll remove some nodes (such as Unknown or blank country names), to clean up our dataset."
      ]
    },
    {
      "cell_type": "code",
      "metadata": {
        "Collapsed": "false",
        "colab_type": "code",
        "id": "02IDTTVc5Zm5",
        "colab": {}
      },
      "source": [
        "# get vertex ID of ambiguous country codes\n",
        "unknown <- which(V(master_network)$label == \"XX\")\n",
        "various <- which(V(master_network)$label == \"XV\")\n",
        "blank <- which(V(master_network)$label == \"\")\n",
        "# delete them from our network\n",
        "master_network <- delete_vertices(master_network, c(unknown, blank, various))"
      ],
      "execution_count": 0,
      "outputs": []
    },
    {
      "cell_type": "markdown",
      "metadata": {
        "id": "rxWj458T4KcN",
        "colab_type": "text"
      },
      "source": [
        "Next, we'll remove nodes with weights less than 2000, so we can see the major nodes in our network."
      ]
    },
    {
      "cell_type": "code",
      "metadata": {
        "Collapsed": "false",
        "colab_type": "code",
        "id": "TqsG1RKI6E_a",
        "colab": {}
      },
      "source": [
        "s1 <- subgraph.edges(master_network, E(master_network)[E(master_network)$weight>2000], del=F)\n",
        "s2 <- delete_vertices(s1, degree(s1, mode = \"in\")==0)\n",
        "plot_network(s2, weight_factor=0.00002, layout = layout_randomly)"
      ],
      "execution_count": 0,
      "outputs": []
    },
    {
      "cell_type": "markdown",
      "metadata": {
        "id": "uIAptMgmTXC0",
        "colab_type": "text"
      },
      "source": [
        "Much better! You can right click on the figure above and open in a new tab to zoom in"
      ]
    },
    {
      "cell_type": "markdown",
      "metadata": {
        "id": "xkHZE5KO6KMB",
        "colab_type": "text"
      },
      "source": [
        "There are many different network layouts in igraph. Let's try some of them:"
      ]
    },
    {
      "cell_type": "code",
      "metadata": {
        "Collapsed": "false",
        "colab_type": "code",
        "id": "2OOSNP196Z4W",
        "colab": {}
      },
      "source": [
        "plot_network(s2, weight_factor=0.00002, layout = layout_on_sphere)"
      ],
      "execution_count": 0,
      "outputs": []
    },
    {
      "cell_type": "code",
      "metadata": {
        "Collapsed": "false",
        "colab_type": "code",
        "id": "d2-5L4Ze6gIx",
        "colab": {}
      },
      "source": [
        "plot_network(s2, weight_factor=0.00002, layout = layout_with_mds)"
      ],
      "execution_count": 0,
      "outputs": []
    },
    {
      "cell_type": "code",
      "metadata": {
        "id": "2RWpWnliWO8f",
        "colab_type": "code",
        "colab": {}
      },
      "source": [
        "plot_network(s2, weight_factor=0.00002, layout = layout.circle)\n"
      ],
      "execution_count": 0,
      "outputs": []
    },
    {
      "cell_type": "markdown",
      "metadata": {
        "id": "aUf1q8EIb8x4",
        "colab_type": "text"
      },
      "source": [
        "Which layouts do you like? And why? Is there anything else about this graph that you would like to see? "
      ]
    },
    {
      "cell_type": "markdown",
      "metadata": {
        "id": "t0cuAwJvcEXE",
        "colab_type": "text"
      },
      "source": [
        "Type in your answer here: "
      ]
    },
    {
      "cell_type": "markdown",
      "metadata": {
        "Collapsed": "false",
        "colab_type": "text",
        "id": "6djbkdjtIPni"
      },
      "source": [
        "## Activity 3: Compare subsets of Amphibian data"
      ]
    },
    {
      "cell_type": "markdown",
      "metadata": {
        "id": "lguQFoqiPchr",
        "colab_type": "text"
      },
      "source": [
        "### 3.1 Subset 2 datasets, convert to network, and visualize"
      ]
    },
    {
      "cell_type": "code",
      "metadata": {
        "Collapsed": "false",
        "colab_type": "code",
        "id": "gJ1UgJlV6pOQ",
        "colab": {}
      },
      "source": [
        "Amp_1992 <- subset(master, Class == \"Amphibia\" & Year == \"1992\")  # Create subset of Amphibia data from 1992\n",
        "Amp_2012 <- subset(master, Class == \"Amphibia\" & Year == \"2012\")  # Create subset of Amphibia data from 2012"
      ],
      "execution_count": 0,
      "outputs": []
    },
    {
      "cell_type": "markdown",
      "metadata": {
        "id": "7KOEdE5Odhum",
        "colab_type": "text"
      },
      "source": [
        "Question: Do you think that Amphibian trade in 1992 will be different than Amphibian trade in 2012? What are some suggested differences?\n",
        "\n"
      ]
    },
    {
      "cell_type": "markdown",
      "metadata": {
        "id": "l0W2QAsWdrCC",
        "colab_type": "text"
      },
      "source": [
        "Write your answer here"
      ]
    },
    {
      "cell_type": "code",
      "metadata": {
        "Collapsed": "false",
        "colab_type": "code",
        "id": "FqzJTzEH7OpX",
        "colab": {}
      },
      "source": [
        "# Create networks from these subsets\n",
        "net1 <-create_network(Amp_1992)\n",
        "net2 <-create_network(Amp_2012)"
      ],
      "execution_count": 0,
      "outputs": []
    },
    {
      "cell_type": "code",
      "metadata": {
        "Collapsed": "false",
        "colab_type": "code",
        "id": "wJ-K76CE7TEG",
        "colab": {}
      },
      "source": [
        "par(mfrow=c(1,2), mar = c(0.1, 0.1, 1, 0.1))  # create a graph with 1 row and 2 columns of plots\n",
        "plot_network(net1, title=\"1992\", weight_factor=0.2, layout= layout_on_sphere)\n",
        "plot_network(net2, title=\"2012\", weight_factor=0.2, layout= layout_on_sphere)"
      ],
      "execution_count": 0,
      "outputs": []
    },
    {
      "cell_type": "markdown",
      "metadata": {
        "Collapsed": "false",
        "colab_type": "text",
        "id": "xvVfcu3pjOhB"
      },
      "source": [
        "### 3.2 Visual cluster analysis of subsets"
      ]
    },
    {
      "cell_type": "code",
      "metadata": {
        "Collapsed": "false",
        "colab_type": "code",
        "id": "BPuMF4sf7Vaw",
        "colab": {}
      },
      "source": [
        "par(mfrow=c(1,2), mar = c(0.1, 0.1, 1, 0.1))  # create a graph with 1 row and 2 columns of plots\n",
        "cfg <- cluster_fast_greedy(as.undirected(net1))  # run clustering algorthim on our first network\n",
        "plot(cfg, as.undirected(net1)) \n",
        "title(main = \"Amphibians 1992\")\n",
        "cfg <- cluster_fast_greedy(as.undirected(net2)) # run clustering algorthim on our first network\n",
        "plot(cfg, as.undirected(net2)) \n",
        "title(main = \"Amphibians 2012\")"
      ],
      "execution_count": 0,
      "outputs": []
    },
    {
      "cell_type": "markdown",
      "metadata": {
        "id": "Rj7XhOW8eUVg",
        "colab_type": "text"
      },
      "source": [
        "Compare the clusters from 1992 and 2012. Each color represents a module, or a clique of countries that are similar to each other. How are the cliques different between 1992 and 2012? What do you think is happening to the amphibian trade over time? "
      ]
    },
    {
      "cell_type": "markdown",
      "metadata": {
        "id": "0iZLmn32eoiw",
        "colab_type": "text"
      },
      "source": [
        "Write your answer here:"
      ]
    },
    {
      "cell_type": "markdown",
      "metadata": {
        "Collapsed": "false",
        "colab_type": "text",
        "id": "GpQkzt9dIknW"
      },
      "source": [
        "## Activity 4: Network and node descriptive stats"
      ]
    },
    {
      "cell_type": "markdown",
      "metadata": {
        "id": "rSdbSwaZb8he",
        "colab_type": "text"
      },
      "source": [
        "Visually inspecting your network can be fun, but it doesn't give you a quantitative description of your data. For example, if you have a straight trendline through an x-y scattr plot, it is still useful to find out numerical properties like the mean, variance, slope of regression line, intercept, etc. "
      ]
    },
    {
      "cell_type": "markdown",
      "metadata": {
        "id": "NeLM0_WGiDYc",
        "colab_type": "text"
      },
      "source": [
        "For the next few examples, we are only going to examine the properties of net1, which is the amphibian trade in 1992"
      ]
    },
    {
      "cell_type": "markdown",
      "metadata": {
        "id": "I3wn6GNsiOsu",
        "colab_type": "text"
      },
      "source": [
        "**Density:** The proportion of present edges from all possible ties."
      ]
    },
    {
      "cell_type": "code",
      "metadata": {
        "Collapsed": "false",
        "colab_type": "code",
        "id": "u9TasdGVIu-8",
        "colab": {}
      },
      "source": [
        "ecount(net1)/(vcount(net1)*(vcount(net1)-1)) #for a directed network"
      ],
      "execution_count": 0,
      "outputs": []
    },
    {
      "cell_type": "markdown",
      "metadata": {
        "id": "GjsRGionicDN",
        "colab_type": "text"
      },
      "source": [
        "**Reciprocity:** The proportion of reciprocated ties (for a directed network)."
      ]
    },
    {
      "cell_type": "code",
      "metadata": {
        "Collapsed": "false",
        "colab_type": "code",
        "id": "vTZXIz_aIxkN",
        "colab": {}
      },
      "source": [
        "reciprocity(net1)"
      ],
      "execution_count": 0,
      "outputs": []
    },
    {
      "cell_type": "markdown",
      "metadata": {
        "id": "mqGWvt5liqQo",
        "colab_type": "text"
      },
      "source": [
        "**Global Transitivity:** ratio of triangles (direction disregarded) to connected triples"
      ]
    },
    {
      "cell_type": "code",
      "metadata": {
        "Collapsed": "false",
        "colab_type": "code",
        "id": "sy8pj4UzJCmR",
        "colab": {}
      },
      "source": [
        "transitivity(net1, type=\"global\")"
      ],
      "execution_count": 0,
      "outputs": []
    },
    {
      "cell_type": "markdown",
      "metadata": {
        "id": "5h5wvTCUi8r9",
        "colab_type": "text"
      },
      "source": [
        "**Diameter:** longest geodesic distance\n",
        "Note that edge weights are used by default, unless set to NA."
      ]
    },
    {
      "cell_type": "code",
      "metadata": {
        "Collapsed": "false",
        "colab_type": "code",
        "id": "80aDrStcMI_i",
        "colab": {}
      },
      "source": [
        "diameter(net1, directed=F, weights=NA)"
      ],
      "execution_count": 0,
      "outputs": []
    },
    {
      "cell_type": "markdown",
      "metadata": {
        "id": "mqsOJFXwjXUx",
        "colab_type": "text"
      },
      "source": [
        "**Node degree:** Number of connections each node has to other nodes'"
      ]
    },
    {
      "cell_type": "code",
      "metadata": {
        "Collapsed": "false",
        "colab_type": "code",
        "id": "LQrAqIeBMfmH",
        "colab": {}
      },
      "source": [
        "deg <- degree(net1, mode=\"all\") #NODE METRICS ************\n",
        "plot(net1, vertex.size=deg*3, edge.arrow.size=0.1)\n",
        "hist(deg, breaks=1:vcount(net1)-1, main=\"Histogram of node degree\")"
      ],
      "execution_count": 0,
      "outputs": []
    },
    {
      "cell_type": "markdown",
      "metadata": {
        "id": "A1LRHwM-kZGI",
        "colab_type": "text"
      },
      "source": [
        "**Hubs:** lots of outgoing links\n"
      ]
    },
    {
      "cell_type": "code",
      "metadata": {
        "id": "HTp8XrIJjyLb",
        "colab_type": "code",
        "colab": {}
      },
      "source": [
        "hs <- hub_score(net1, weights=NA)$vector\n",
        "plot(net1, vertex.size=hs*50, main=\"Hubs\", edge.arrow.size=0.1, vertex.color= rgb(212/255, 175/255, 55/255, 0.6))\n"
      ],
      "execution_count": 0,
      "outputs": []
    },
    {
      "cell_type": "markdown",
      "metadata": {
        "id": "PowmquIslAI5",
        "colab_type": "text"
      },
      "source": [
        "**Authorities:** lots of incoming links from hubs"
      ]
    },
    {
      "cell_type": "code",
      "metadata": {
        "id": "uCJAJ3a9k_6C",
        "colab_type": "code",
        "colab": {}
      },
      "source": [
        "as <- authority_score(net1, weights=NA)$vector\n",
        "plot(net1, vertex.size=as*30, main=\"Authorities\", edge.arrow.size=0.1, vertex.color= rgb(212/255, 175/255, 55/255, 0.6)) "
      ],
      "execution_count": 0,
      "outputs": []
    },
    {
      "cell_type": "markdown",
      "metadata": {
        "id": "eAZzrKMJmsr6",
        "colab_type": "text"
      },
      "source": [
        "**Community detection**"
      ]
    },
    {
      "cell_type": "code",
      "metadata": {
        "id": "RLTC2cIWmdx7",
        "colab_type": "code",
        "colab": {}
      },
      "source": [
        "clp <- cluster_label_prop(net1)\n",
        "plot(clp, net1, edge.arrow.size=0.1)"
      ],
      "execution_count": 0,
      "outputs": []
    },
    {
      "cell_type": "code",
      "metadata": {
        "id": "YbVOakR3mRVn",
        "colab_type": "code",
        "colab": {}
      },
      "source": [
        "V(net1)$community <- cfg$membership\n",
        "colrs <- adjustcolor( c(\"gray50\", \"tomato\", \"gold\", \"yellowgreen\", \"blue\", \"gold\", \"maroon\"), alpha=.6)\n",
        "plot(net1, vertex.color=colrs[V(net1)$community])"
      ],
      "execution_count": 0,
      "outputs": []
    },
    {
      "cell_type": "markdown",
      "metadata": {
        "id": "fp7OiZhEnv_n",
        "colab_type": "text"
      },
      "source": [
        "## Activity 5: If we have time, compare network metrics with two different subsets of your choice"
      ]
    },
    {
      "cell_type": "markdown",
      "metadata": {
        "id": "UC07M1F7iwlN",
        "colab_type": "text"
      },
      "source": [
        "*You can pick any two logical subsets to compare, or choose one of the following suggested pairs. Make sure you actually have data by examining the structure of your subsets! hint:\n",
        "table(yoursubset$Year) to see how many entries it has*\n",
        "\n",
        "Don't use entries later than 2016 as data is incomplete\n",
        "\n",
        "\n",
        "Option 1: Insects in 1988 vs Insects in 2016\n",
        "\n",
        "Option 2: African elephants vs Indian elephants\n",
        "\n",
        "Option 3: African elephants 1990 vs 2015\n",
        "\n",
        "Option 4: Tortoises in the 1990s vs Tortoises in the 2000s \n",
        "\n"
      ]
    },
    {
      "cell_type": "markdown",
      "metadata": {
        "id": "aBLYdYsiCi_n",
        "colab_type": "text"
      },
      "source": [
        "###For those of you who want to code by yourself, ignore my code below and copy and paste Activity 3's code and modify"
      ]
    },
    {
      "cell_type": "code",
      "metadata": {
        "id": "b8mJDdBpDkC_",
        "colab_type": "code",
        "colab": {}
      },
      "source": [
        "##Insert your own code here, if you want to try coding yourself"
      ],
      "execution_count": 0,
      "outputs": []
    },
    {
      "cell_type": "markdown",
      "metadata": {
        "id": "ixiqfx1Tim1-",
        "colab_type": "text"
      },
      "source": [
        "If you prefer to run my code, let's look at 4 examples below! "
      ]
    },
    {
      "cell_type": "code",
      "metadata": {
        "id": "Dt2ZJmJ8Czlv",
        "colab_type": "code",
        "colab": {}
      },
      "source": [
        "###############################################\n",
        "#Option 1: Insects in 1988 vs Insects in 2016\n",
        "###############################################\n",
        "Insect1988 <- subset(master, Class == \"Insecta\" & Year == \"1988\")  # Create subset of Insect data from 1988\n",
        "Insect2016 <- subset(master, Class == \"Insecta\" & Year == \"2016\")  # Create subset of Insect data from 2016\n",
        "table(Insect1988$Year)\n",
        "table(Insect2016$Year)\n",
        "Ins1 <-create_network(Insect_1988) #Create network from 1988 insect data \n",
        "Ins2 <-create_network(Insect_2016) #Create network from 2016 insect data \n",
        "par(mfrow=c(1,2), mar = c(0.1, 0.1, 1, 0.1))  # create a graph with 1 row and 2 columns of plots\n",
        "plot_network(Ins1, title=\"Insects 1988\", weight_factor=0.1, layout= layout_on_sphere) #plot graph \n",
        "plot_network(Ins2, title=\"Insects 2016\", weight_factor=0.1, layout= layout_on_sphere) # plot graph"
      ],
      "execution_count": 0,
      "outputs": []
    },
    {
      "cell_type": "code",
      "metadata": {
        "id": "gQwQcxiaj5Rc",
        "colab_type": "code",
        "colab": {}
      },
      "source": [
        "###############################################\n",
        "#Option 2: African elephants vs Indian elephants\n",
        "###############################################\n",
        "\n",
        "African <- subset(master, Genus == \"Loxodonta\")\n",
        "Indian <- subset (master, Genus== \"Elephas\")\n",
        "table(African$Year)\n",
        "table(Indian$Year)\n",
        "net1 <-create_network(African) \n",
        "net2 <-create_network(Indian) \n",
        "s1 <- subgraph.edges(net1, E(net1)[E(net1)$weight>10], del=F)\n",
        "net1 <- delete_vertices(s1, degree(s1, mode = \"in\")==0)\n",
        "s2 <- subgraph.edges(net2, E(net2)[E(net2)$weight>10], del=F)\n",
        "net2 <- delete_vertices(s2, degree(s2, mode = \"in\")==0)\n",
        "par(mfrow=c(1,2), mar = c(0.1, 0.1, 1, 0.1))  # create a graph with 1 row and 2 columns of plots\n",
        "plot_network(net1, title=\"African Elephants\", weight_factor=0.001, layout= layout_on_sphere) #plot graph \n",
        "plot_network(net2, title=\"Indian Elepahtns\", weight_factor=0.001, layout= layout_on_sphere) # plot graph"
      ],
      "execution_count": 0,
      "outputs": []
    },
    {
      "cell_type": "code",
      "metadata": {
        "id": "VvteCBSbjlJN",
        "colab_type": "code",
        "colab": {}
      },
      "source": [
        "###############################################\n",
        "#Option 3: African elephants 1990 vs 2015\n",
        "###############################################\n",
        "Lox1990 <- subset(master, Genus == \"Loxodonta\" & Year ==1990)\n",
        "Lox2015 <- subset(master, Genus == \"Loxodonta\" & Year ==2015)\n",
        "table(Lox1990$Year)\n",
        "table(Lox2015$Year)\n",
        "net1 <-create_network(Lox1990) \n",
        "net2 <-create_network(Lox2015) \n",
        "s1 <- subgraph.edges(net1, E(net1)[E(net1)$weight>5], del=F)\n",
        "net1 <- delete_vertices(s1, degree(s1, mode = \"in\")==0)\n",
        "s2 <- subgraph.edges(net2, E(net2)[E(net2)$weight>5], del=F)\n",
        "net2 <- delete_vertices(s2, degree(s2, mode = \"in\")==0)\n",
        "par(mfrow=c(1,2), mar = c(0.1, 0.1, 1, 0.1))  \n",
        "plot_network(net1, title=\"African Elephants 1990\", weight_factor=0.06, layout= layout_on_sphere) #plot graph \n",
        "plot_network(net2, title=\"African Elephants 2015\", weight_factor=0.06, layout= layout_on_sphere) # plot graph"
      ],
      "execution_count": 0,
      "outputs": []
    },
    {
      "cell_type": "code",
      "metadata": {
        "id": "198YOHuND2F8",
        "colab_type": "code",
        "colab": {}
      },
      "source": [
        "###############################################\n",
        "#Option 4: Tortoises in the 1990s vs Tortoises in the 2000s \n",
        "###############################################\n",
        "Torts90s <- subset(master, Family == \"Testudinidae\" & Year > 1989 & Year < 2000 )\n",
        "Torts20s <- subset(master, Family == \"Testudinidae\" & Year > 1999 & Year < 2010 )\n",
        "table(Torts90s$Year)\n",
        "table(Torts20s$Year)\n",
        "net1 <-create_network(Torts90s)\n",
        "net2 <-create_network(Torts20s)\n",
        "s1 <- subgraph.edges(net1, E(net1)[E(net1)$weight>10], del=F)\n",
        "net1 <- delete_vertices(s1, degree(s1, mode = \"in\")==0)\n",
        "s2 <- subgraph.edges(net2, E(net2)[E(net2)$weight>10], del=F)\n",
        "net2 <- delete_vertices(s2, degree(s2, mode = \"in\")==0)\n",
        "par(mfrow=c(1,2), mar = c(0.1, 0.1, 1, 0.1))  # create a graph with 1 row and 2 columns of plots\n",
        "plot_network(net1, title=\"Tortoises 90s\", weight_factor=0.02, layout= layout_on_sphere)\n",
        "plot_network(net2, title=\"Tortoises 2000s\", weight_factor=0.02, layout= layout_on_sphere)"
      ],
      "execution_count": 0,
      "outputs": []
    },
    {
      "cell_type": "markdown",
      "metadata": {
        "Collapsed": "false",
        "id": "bBXAHituuBfW",
        "colab_type": "text"
      },
      "source": [
        "## References and Further Reading\n",
        "Csardi G, Nepusz T: The igraph software package for complex network research, InterJournal, Complex Systems 1695. 2006.\n",
        "  http://igraph.sf.net\n",
        "\n",
        "Kolaczyk, E.D. and Csárdi, G., 2014. Statistical analysis of network data with R (Vol. 65). New York, NY: Springer.\n",
        "\n",
        "Luke, D.A., 2015. A user's guide to network analysis in R. Cham, Switzerland: Springer.\n",
        "\n",
        "Ognyanova, K. (2016) Network analysis with R and igraph: NetSci X Tutorial. Retrieved from www.kateto.net/networks-r-igraph.\n",
        "\n",
        "Ognyanova, K. (2019) Network visualization with R. Retrieved from www.kateto.net/network-visualization.\n",
        "\n",
        "Ross, Noam, Evan A. Eskew, and Nicolas Ray. 2019. citesdb: A high-performance database of shipment-level CITES trade data. R package v0.2.0. EcoHealth Alliance: New York, NY. https://github.com/ropensci/citesdb. doi:10.5281/zenodo.2630836\n",
        "\n",
        "UNEP-WCMC (Comps.) 2019. Full CITES Trade Database Download. Version 2019.2. CITES Secretariat, Geneva, Switzerland. Compiled by UNEP-WCMC, Cambridge, UK. Available at: https://trade.cites.org.\n",
        "\n"
      ]
    },
    {
      "cell_type": "code",
      "metadata": {
        "id": "7Rse3ZsCmQXP",
        "colab_type": "code",
        "colab": {}
      },
      "source": [
        ""
      ],
      "execution_count": 0,
      "outputs": []
    },
    {
      "cell_type": "code",
      "metadata": {
        "id": "2uI-ppwtdBz9",
        "colab_type": "code",
        "colab": {}
      },
      "source": [
        ""
      ],
      "execution_count": 0,
      "outputs": []
    }
  ]
}