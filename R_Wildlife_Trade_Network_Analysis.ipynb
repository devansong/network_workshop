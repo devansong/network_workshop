{
 "cells": [
  {
   "cell_type": "markdown",
   "metadata": {
    "Collapsed": "false",
    "id": "jdnkd2Mou52F"
   },
   "source": [
    "# URI Illegal Wildlife Trafficking: R workshop in network analysis"
   ]
  },
  {
   "cell_type": "markdown",
   "metadata": {
    "Collapsed": "false",
    "id": "Hef8wD98uBcz"
   },
   "source": [
    "## Setup"
   ]
  },
  {
   "cell_type": "markdown",
   "metadata": {
    "Collapsed": "false",
    "id": "sbUQyBCquBc1"
   },
   "source": [
    "This section installs and loads all the packages we need, and downloads a cleaned up version of the CITES dataset.  We'll call this dataset `cites_data`.\n",
    "\n",
    "Click on the cell and press the play button, or press shift+enter to run the code\n",
    "\n",
    "This takes approximately 10-15 minutes to run. We will return to the powerpoint introductions after you run this code."
   ]
  },
  {
   "cell_type": "code",
   "execution_count": null,
   "metadata": {
    "Collapsed": "false",
    "id": "Sv1KY-dIsea6"
   },
   "outputs": [],
   "source": [
    "install.packages(\"igraph\")\n",
    "install.packages(\"googledrive\")\n",
    "\n",
    "library(igraph)\n",
    "library(tidyverse)\n",
    "library(googledrive)\n",
    "\n",
    "# Collect dataset from google drive link\n",
    "drive_deauth()\n",
    "drive_download(as_id(\"https://drive.google.com/file/d/17sWWNYt05rLFUMCnQ-vlHG7cMmWUWqIm/view?usp%3Dsharing&sa=D&source=hangouts&ust=1618184626983000&usg=AFQjCNG-Gnc7UDyM6uoXgsUEVZZ7VBSCbw\"), overwrite = TRUE)\n",
    "cites_data <- read.csv('animals_clean.csv')"
   ]
  },
  {
   "cell_type": "markdown",
   "metadata": {},
   "source": [
    "### Dataset details\n",
    "The dataset was downloaded on April 10, 2021 using [pycites](https://github.com/WildlifeTradeNetworks/pycites), and additional taxonomical information was added based off of the [ITIS database](https://www.itis.gov/). \n",
    "Any row that had an `NA` for Year, Importer or Exporter was removed, and only items from after 1996 were included (when records \"were checked for correct species distribution and valid combinations of taxon and term, taxon and source, etc\" (see section 1.4 [here](https://trade.cites.org/cites_trade_guidelines/en-CITES_Trade_Database_Guide.pdf))). \n",
    "To reduce data size for this course, this dataset only includes trades involving Kingdom *Anamalia*."
   ]
  },
  {
   "cell_type": "markdown",
   "metadata": {
    "Collapsed": "false",
    "id": "Kkck49milzTe"
   },
   "source": [
    "## Activity 0: Test\n",
    "Before we begin the class, let's make sure we can run some simple code and plot a graph. \n",
    "Click on each cell of code and press \"shift + enter\""
   ]
  },
  {
   "cell_type": "code",
   "execution_count": null,
   "metadata": {
    "Collapsed": "false",
    "id": "5Tq3hqPUmQOu"
   },
   "outputs": [],
   "source": [
    "# Anything in a coding cell that has a \"#\" in front is just a commeent about the code\n",
    "\n",
    "# I am creating a variable x, that consists of 5 different numbers\n",
    "x <- c(1,3,6,9,12)\n",
    "\n",
    "# I am now creating a variable y, that consists of 5 different numbers\n",
    "y <- c(1.5,2,7,8,15)\n",
    "\n",
    "#I now want to plot x against y in a simple scatter plot \n",
    "plot(\n",
    "    x, y, \n",
    "    xlab=\"x axis\", \n",
    "    ylab=\"y axis\", \n",
    "    main=\"My nice little plot with fairly large blue dots\",\n",
    "    ylim=c(0,20),\n",
    "    xlim=c(0,15), \n",
    "    pch=19,\n",
    "    col=\"blue\",\n",
    "    cex=3\n",
    ")"
   ]
  },
  {
   "cell_type": "markdown",
   "metadata": {
    "Collapsed": "false",
    "id": "razF6ZtfmgA0"
   },
   "source": [
    "If you see a simple scatter plot with 5 data points, you have successfully run R code!"
   ]
  },
  {
   "cell_type": "markdown",
   "metadata": {
    "id": "Gx4MvqXvKqxG"
   },
   "source": [
    "##Activity 1: Examine CITES data"
   ]
  },
  {
   "cell_type": "markdown",
   "metadata": {
    "id": "imFb7C52bgyi"
   },
   "source": [
    "Now we'll start to explore the network, where each node is a country. See Annex 3 of the [CITES Trade Database Guide](https://trade.cites.org/cites_trade_guidelines/en-CITES_Trade_Database_Guide.pdf) to look up the country name from its 2-letter code."
   ]
  },
  {
   "cell_type": "markdown",
   "metadata": {
    "Collapsed": "false",
    "id": "HzEug10N5HjK"
   },
   "source": [
    "### 1.1 Explore the structure (str) of the CITES dataset"
   ]
  },
  {
   "cell_type": "code",
   "execution_count": null,
   "metadata": {
    "Collapsed": "false",
    "id": "cyRptfMN0GiW"
   },
   "outputs": [],
   "source": [
    "str(cites_data)"
   ]
  },
  {
   "cell_type": "markdown",
   "metadata": {
    "id": "Yk_b2OWTLCH7"
   },
   "source": [
    "### 1.2 Print the first 6 rows of data"
   ]
  },
  {
   "cell_type": "code",
   "execution_count": null,
   "metadata": {
    "Collapsed": "false",
    "id": "a1vBzE3x0kdg"
   },
   "outputs": [],
   "source": [
    "head(cites_data)"
   ]
  },
  {
   "cell_type": "markdown",
   "metadata": {
    "id": "ss3p-Wr7LJp9"
   },
   "source": [
    "### 1.3 Explore other properties of the dataset"
   ]
  },
  {
   "cell_type": "code",
   "execution_count": null,
   "metadata": {
    "Collapsed": "false",
    "id": "YUTpetdy0lfr"
   },
   "outputs": [],
   "source": [
    "min(cites_data$Year) "
   ]
  },
  {
   "cell_type": "code",
   "execution_count": null,
   "metadata": {
    "Collapsed": "false",
    "id": "zui5AoO00tpM"
   },
   "outputs": [],
   "source": [
    "max(cites_data$Year) "
   ]
  },
  {
   "cell_type": "code",
   "execution_count": null,
   "metadata": {
    "Collapsed": "false",
    "id": "keTCPTKd0uNS"
   },
   "outputs": [],
   "source": [
    "table(cites_data$itis_class) "
   ]
  },
  {
   "cell_type": "code",
   "execution_count": null,
   "metadata": {
    "Collapsed": "false",
    "id": "rQrmh0AF0wvB"
   },
   "outputs": [],
   "source": [
    "sort(table(cites_data$itis_class))"
   ]
  },
  {
   "cell_type": "code",
   "execution_count": null,
   "metadata": {
    "Collapsed": "false",
    "id": "iAMVul-405Gz"
   },
   "outputs": [],
   "source": [
    "plot(sort(table(cites_data$itis_class)))"
   ]
  },
  {
   "cell_type": "markdown",
   "metadata": {
    "id": "LJJAK8O6LiP2"
   },
   "source": [
    "Answer the following questions: \n",
    "\n",
    "a. how many shipments does your data have?  \n",
    "b. how many different classes are represented in your dataset?  \n",
    "c. what timeframe does your dataset span? \n"
   ]
  },
  {
   "cell_type": "markdown",
   "metadata": {
    "id": "vsQvWuqZMcmX"
   },
   "source": [
    "## Activity 2: Convert CITES data to network and visualize"
   ]
  },
  {
   "cell_type": "markdown",
   "metadata": {
    "Collapsed": "false",
    "id": "0Haa1pQ-47KD"
   },
   "source": [
    "##### 2.1 Run Functions"
   ]
  },
  {
   "cell_type": "markdown",
   "metadata": {
    "id": "z1Sjcgivx_tU"
   },
   "source": [
    "These functions will be used throughout this workshop to make things easier.\n",
    "\n",
    "`create_network` makes an igraph network from a dataset, which we can use for further analysis and visualization.\n",
    "\n",
    "`plot_network` allows us to plot an igraph network in a nicer way than by default, and easily change the edge weights"
   ]
  },
  {
   "cell_type": "code",
   "execution_count": null,
   "metadata": {
    "Collapsed": "false",
    "id": "B4dkWEyE1h8E"
   },
   "outputs": [],
   "source": [
    "create_network <- function(data){\n",
    "    # create a tibble of unique Exporter and Importer countries\n",
    "    # this is used for the network nodes\n",
    "    sources <- data %>%\n",
    "        distinct(Exporter) %>%\n",
    "        rename(label = Exporter)  # all exporting countries (treated as country of origin)\n",
    "    destinations <- data %>%\n",
    "        distinct(Importer) %>%\n",
    "        rename(label = Importer)  # all importing countries\n",
    "    nodes <- full_join(sources, destinations, by = \"label\")  # all unique countries in your dataset \n",
    "    nodes <- nodes %>%\n",
    "        rowid_to_column(\"id\")  # create numerical id for each unique country \n",
    "\n",
    "    # create a tibble with export id, import id, and weight by number of shipments\n",
    "    # this is used for the network edges\n",
    "    per_route <- data %>%  \n",
    "        group_by(Exporter, Importer) %>%\n",
    "        summarise(weight = n()) %>% #number of observations in the current group\n",
    "        ungroup() #removes grouping \n",
    "    edges <- per_route %>% \n",
    "        left_join(nodes, by = c(\"Exporter\" = \"label\")) %>% \n",
    "        rename(from = id)\n",
    "    edges <- edges %>% \n",
    "        left_join(nodes, by = c(\"Importer\" = \"label\")) %>% \n",
    "        rename(to = id)\n",
    "    edges <- select(edges, from, to, weight)\n",
    "\n",
    "    # create a directed igraph network from the edges and nodes defined above   \n",
    "    net <- graph_from_data_frame(d=edges, vertices=nodes, directed=T)\n",
    "    return(net)\n",
    "}\n",
    "\n",
    "\n",
    "plot_network <- function(\n",
    "    igraph_network,\n",
    "    title=\"trade network\",\n",
    "    weight_factor=0.01, # scaling factor for edge weights\n",
    "    layout=layout_with_mds  # igraph layour\n",
    "    ){\n",
    "    E(igraph_network)$width <- E(igraph_network)$weight*weight_factor\n",
    "    l <- layout(igraph_network)\n",
    "    plot(\n",
    "        # TODO: adjust plot size, etc to make look niceer in Colab\n",
    "        igraph_network,\n",
    "        edge.color= rgb(70/255, 130/255, 180/255, 0.6),\n",
    "        edge.arrow.size=.001, \n",
    "        vertex.size = 10, \n",
    "        vertex.color= rgb(255/255,190/255,0/255, 0.8),\n",
    "        vertex.label = V(igraph_network)$id,\n",
    "        vertex.label.cex = 0.6, \n",
    "        vertex.label.color = \"black\", \n",
    "        rescale=T, \n",
    "        layout=l*3.0, \n",
    "        main=title) \n",
    "}\n",
    "\n",
    "\"cell run successfully\""
   ]
  },
  {
   "cell_type": "markdown",
   "metadata": {
    "Collapsed": "false",
    "id": "CYMCfbeljFk9"
   },
   "source": [
    "### 2.2 Create and visualize network"
   ]
  },
  {
   "cell_type": "markdown",
   "metadata": {
    "id": "pmy4wzKj14su"
   },
   "source": [
    "Now we'll start to explore the network, where each node is a country. See Annex 3 of the [CITES Trade Database Guide](https://trade.cites.org/cites_trade_guidelines/en-CITES_Trade_Database_Guide.pdf) to look up the country name from its 2-letter code."
   ]
  },
  {
   "cell_type": "code",
   "execution_count": null,
   "metadata": {
    "Collapsed": "false",
    "id": "KAKMvCnp5VjO"
   },
   "outputs": [],
   "source": [
    "cites_data_network <-create_network(cites_data) \n",
    "'cell run successfully'"
   ]
  },
  {
   "cell_type": "code",
   "execution_count": null,
   "metadata": {
    "Collapsed": "false",
    "id": "SowE_q285Xvh"
   },
   "outputs": [],
   "source": [
    "plot_network(cites_data_network, weight_factor=0.00002, layout = layout_randomly)"
   ]
  },
  {
   "cell_type": "markdown",
   "metadata": {
    "id": "czEglQrJ2zmT"
   },
   "source": [
    "What an uninformative mess! This doesn't really tell us anything. \n",
    "We'll remove some nodes (such as Unknown or blank country names), to clean up our dataset."
   ]
  },
  {
   "cell_type": "code",
   "execution_count": null,
   "metadata": {
    "Collapsed": "false",
    "id": "02IDTTVc5Zm5"
   },
   "outputs": [],
   "source": [
    "# get vertex ID of ambiguous country codes\n",
    "unknown <- which(V(cites_data_network)$label == \"XX\")\n",
    "various <- which(V(cites_data_network)$label == \"XV\")\n",
    "blank <- which(V(cites_data_network)$label == \"\")\n",
    "# delete them from our network\n",
    "cites_data_network <- delete_vertices(cites_data_network, c(unknown, blank, various))\n",
    "'cell run successfully'"
   ]
  },
  {
   "cell_type": "markdown",
   "metadata": {
    "id": "rxWj458T4KcN"
   },
   "source": [
    "Next, we'll remove nodes with weights less than 1000, so we can see the major nodes in our network."
   ]
  },
  {
   "cell_type": "code",
   "execution_count": null,
   "metadata": {
    "Collapsed": "false",
    "id": "TqsG1RKI6E_a"
   },
   "outputs": [],
   "source": [
    "s1 <- subgraph.edges(cites_data_network, E(cites_data_network)[E(cites_data_network)$weight>1000], del=F)\n",
    "s2 <- delete_vertices(s1, degree(s1, mode = \"in\")==0)\n",
    "plot_network(s2, weight_factor=0.00001, layout = layout_randomly)"
   ]
  },
  {
   "cell_type": "markdown",
   "metadata": {
    "id": "uIAptMgmTXC0"
   },
   "source": [
    "Much better! You can right click on the figure above and open in a new tab to zoom in"
   ]
  },
  {
   "cell_type": "markdown",
   "metadata": {
    "id": "xkHZE5KO6KMB"
   },
   "source": [
    "There are many different network layouts in igraph. Let's try some of them yourself"
   ]
  },
  {
   "cell_type": "code",
   "execution_count": null,
   "metadata": {
    "Collapsed": "false",
    "id": "2OOSNP196Z4W"
   },
   "outputs": [],
   "source": [
    "plot_network(s2, weight_factor=0.00001, layout = layout_on_sphere)"
   ]
  },
  {
   "cell_type": "code",
   "execution_count": null,
   "metadata": {
    "Collapsed": "false",
    "id": "d2-5L4Ze6gIx"
   },
   "outputs": [],
   "source": [
    "plot_network(s2, weight_factor=0.00001, layout = layout_with_mds)"
   ]
  },
  {
   "cell_type": "code",
   "execution_count": null,
   "metadata": {
    "id": "2RWpWnliWO8f"
   },
   "outputs": [],
   "source": [
    "plot_network(s2, weight_factor=0.00001, layout = layout.circle)\n"
   ]
  },
  {
   "cell_type": "code",
   "execution_count": null,
   "metadata": {
    "id": "AVpO2wSTSs4j"
   },
   "outputs": [],
   "source": [
    "plot_network(s2, weight_factor=0.00001, layout = layout_with_kk)\n"
   ]
  },
  {
   "cell_type": "code",
   "execution_count": null,
   "metadata": {
    "id": "AaIP3YuDSwqf"
   },
   "outputs": [],
   "source": [
    "plot_network(s2, weight_factor=0.00001, layout = layout_with_dh)\n"
   ]
  },
  {
   "cell_type": "code",
   "execution_count": null,
   "metadata": {
    "id": "sZW-Pv7OexKR"
   },
   "outputs": [],
   "source": [
    "plot_network(s2, weight_factor=0.00001, layout = layout_on_grid)"
   ]
  },
  {
   "cell_type": "markdown",
   "metadata": {
    "id": "aUf1q8EIb8x4"
   },
   "source": [
    "Which layouts do you like? And why? Is there anything else about this graph that you would like to see? "
   ]
  },
  {
   "cell_type": "markdown",
   "metadata": {
    "id": "t0cuAwJvcEXE"
   },
   "source": [
    "Type in your answer here: "
   ]
  },
  {
   "cell_type": "markdown",
   "metadata": {
    "Collapsed": "false",
    "id": "6djbkdjtIPni"
   },
   "source": [
    "## Activity 3: Compare subsets of Amphibian data"
   ]
  },
  {
   "cell_type": "markdown",
   "metadata": {
    "id": "lguQFoqiPchr"
   },
   "source": [
    "### 3.1 Subset 2 datasets, convert to network, and visualize"
   ]
  },
  {
   "cell_type": "code",
   "execution_count": null,
   "metadata": {
    "Collapsed": "false",
    "id": "gJ1UgJlV6pOQ"
   },
   "outputs": [],
   "source": [
    "Amp_1996 <- subset(cites_data, itis_class == \"Amphibia\" & Year == \"1996\")  # Create subset of Amphibia data from 1996\n",
    "Amp_2016 <- subset(cites_data, itis_class == \"Amphibia\" & Year == \"2016\")  # Create subset of Amphibia data from 2016\n",
    "'cell run successfully'"
   ]
  },
  {
   "cell_type": "code",
   "execution_count": null,
   "metadata": {
    "Collapsed": "false",
    "id": "FqzJTzEH7OpX"
   },
   "outputs": [],
   "source": [
    "# Create networks from these subsets\n",
    "net1 <-create_network(Amp_1996)\n",
    "net2 <-create_network(Amp_2016)\n",
    "'cell run successfully'"
   ]
  },
  {
   "cell_type": "code",
   "execution_count": null,
   "metadata": {
    "Collapsed": "false",
    "id": "wJ-K76CE7TEG"
   },
   "outputs": [],
   "source": [
    "par(mfrow=c(1,2), mar = c(0.1, 0.1, 1, 0.1))  # create a graph with 1 row and 2 columns of plots\n",
    "plot_network(net1, title=\"Amphibians 1996\", weight_factor=0.1, layout= layout_on_sphere)\n",
    "plot_network(net2, title=\"Amphibians 2016\", weight_factor=0.1, layout= layout_on_sphere)"
   ]
  },
  {
   "cell_type": "markdown",
   "metadata": {
    "Collapsed": "false",
    "id": "xvVfcu3pjOhB"
   },
   "source": [
    "### 3.2 Visual cluster analysis of subsets"
   ]
  },
  {
   "cell_type": "code",
   "execution_count": null,
   "metadata": {
    "Collapsed": "false",
    "id": "BPuMF4sf7Vaw"
   },
   "outputs": [],
   "source": [
    "par(mfrow=c(1,2), mar = c(0.1, 0.1, 1, 0.1))  # create a graph with 1 row and 2 columns of plots\n",
    "cfg <- cluster_fast_greedy(as.undirected(net1))  # run clustering algorithm on our first network\n",
    "plot(cfg, as.undirected(net1)) \n",
    "title(main = \"Amphibians 1996\")\n",
    "cfg <- cluster_fast_greedy(as.undirected(net2)) # run clustering algorithm on our second network\n",
    "plot(cfg, as.undirected(net2)) \n",
    "title(main = \"Amphibians 2016\")"
   ]
  },
  {
   "cell_type": "markdown",
   "metadata": {
    "id": "Rj7XhOW8eUVg"
   },
   "source": [
    "Compare the clusters from 1996 and 2016. Each color represents a module, or a clique of countries that are similar to each other. How are the cliques different between 1996 and 2016? What do you think is happening to the amphibian trade over time? "
   ]
  },
  {
   "cell_type": "markdown",
   "metadata": {
    "id": "0iZLmn32eoiw"
   },
   "source": [
    "Write your answer here:"
   ]
  },
  {
   "cell_type": "markdown",
   "metadata": {
    "Collapsed": "false",
    "id": "GpQkzt9dIknW"
   },
   "source": [
    "## Activity 4: Network and node descriptive stats"
   ]
  },
  {
   "cell_type": "markdown",
   "metadata": {
    "id": "K7njivWAlY1P"
   },
   "source": [
    "### 4.1 Examine network metrics for Amphibian 1996 network"
   ]
  },
  {
   "cell_type": "markdown",
   "metadata": {
    "id": "rSdbSwaZb8he"
   },
   "source": [
    "Visually inspecting your network can be fun, but it doesn't give you a quantitative description of your data. For example, if you have a straight trendline through an x-y scattr plot, it is still useful to find out numerical properties like the mean, variance, slope of regression line, intercept, etc. "
   ]
  },
  {
   "cell_type": "markdown",
   "metadata": {
    "id": "NeLM0_WGiDYc"
   },
   "source": [
    "For the next few examples, we are only going to examine the properties of net1, which is the amphibian trade in 1996"
   ]
  },
  {
   "cell_type": "markdown",
   "metadata": {
    "id": "I3wn6GNsiOsu"
   },
   "source": [
    "**Density:** The proportion of present edges from all possible ties."
   ]
  },
  {
   "cell_type": "code",
   "execution_count": null,
   "metadata": {
    "Collapsed": "false",
    "id": "u9TasdGVIu-8"
   },
   "outputs": [],
   "source": [
    "ecount(net1)/(vcount(net1)*(vcount(net1)-1)) #for a directed network"
   ]
  },
  {
   "cell_type": "markdown",
   "metadata": {
    "id": "GjsRGionicDN"
   },
   "source": [
    "**Reciprocity:** The proportion of reciprocated ties (for a directed network)."
   ]
  },
  {
   "cell_type": "code",
   "execution_count": null,
   "metadata": {
    "Collapsed": "false",
    "id": "vTZXIz_aIxkN"
   },
   "outputs": [],
   "source": [
    "reciprocity(net1)"
   ]
  },
  {
   "cell_type": "markdown",
   "metadata": {
    "id": "mqGWvt5liqQo"
   },
   "source": [
    "**Global Transitivity:** ratio of triangles (direction disregarded) to connected triples"
   ]
  },
  {
   "cell_type": "code",
   "execution_count": null,
   "metadata": {
    "Collapsed": "false",
    "id": "sy8pj4UzJCmR"
   },
   "outputs": [],
   "source": [
    "transitivity(net1, type=\"global\")"
   ]
  },
  {
   "cell_type": "markdown",
   "metadata": {
    "id": "5h5wvTCUi8r9"
   },
   "source": [
    "**Diameter:** longest geodesic distance\n",
    "Note that edge weights are used by default, unless set to NA."
   ]
  },
  {
   "cell_type": "code",
   "execution_count": null,
   "metadata": {
    "Collapsed": "false",
    "id": "80aDrStcMI_i"
   },
   "outputs": [],
   "source": [
    "diameter(net1, directed=F, weights=NA)"
   ]
  },
  {
   "cell_type": "markdown",
   "metadata": {
    "id": "mqsOJFXwjXUx"
   },
   "source": [
    "**Node degree:** Number of connections each node has to other nodes'"
   ]
  },
  {
   "cell_type": "code",
   "execution_count": null,
   "metadata": {
    "Collapsed": "false",
    "id": "LQrAqIeBMfmH"
   },
   "outputs": [],
   "source": [
    "deg <- degree(net1, mode=\"all\") #NODE METRICS ************\n",
    "plot(net1, vertex.size=deg*2, edge.arrow.size=0.1)\n",
    "hist(deg, breaks=1:vcount(net1)-1, main=\"Histogram of node degree\")"
   ]
  },
  {
   "cell_type": "markdown",
   "metadata": {
    "id": "A1LRHwM-kZGI"
   },
   "source": [
    "**Hubs:** lots of outgoing links\n"
   ]
  },
  {
   "cell_type": "code",
   "execution_count": null,
   "metadata": {
    "id": "HTp8XrIJjyLb"
   },
   "outputs": [],
   "source": [
    "hs <- hub_score(net1, weights=NA)$vector\n",
    "plot(net1, vertex.size=hs*50, main=\"Hubs\", edge.arrow.size=0.1, vertex.color= rgb(212/255, 175/255, 55/255, 0.6))"
   ]
  },
  {
   "cell_type": "markdown",
   "metadata": {
    "id": "PowmquIslAI5"
   },
   "source": [
    "**Authorities:** lots of incoming links from hubs"
   ]
  },
  {
   "cell_type": "code",
   "execution_count": null,
   "metadata": {
    "id": "uCJAJ3a9k_6C"
   },
   "outputs": [],
   "source": [
    "as <- authority_score(net1, weights=NA)$vector\n",
    "plot(net1, vertex.size=as*30, main=\"Authorities\", edge.arrow.size=0.1, vertex.color= rgb(212/255, 175/255, 55/255, 0.6)) "
   ]
  },
  {
   "cell_type": "markdown",
   "metadata": {
    "id": "eAZzrKMJmsr6"
   },
   "source": [
    "**Community detection**"
   ]
  },
  {
   "cell_type": "code",
   "execution_count": null,
   "metadata": {
    "id": "YbVOakR3mRVn"
   },
   "outputs": [],
   "source": [
    "clp <- cluster_label_prop(net1)\n",
    "V(net1)$community <- clp$membership\n",
    "plot(net1, vertex.color=V(net1)$community)"
   ]
  },
  {
   "cell_type": "markdown",
   "metadata": {
    "id": "mtPflQowfMvW"
   },
   "source": [
    "We are going to consolidate all the network metrics from activity 4 above into one cell, so it's easier to compare with the next section of code."
   ]
  },
  {
   "cell_type": "code",
   "execution_count": null,
   "metadata": {
    "id": "5ibOzs9FfdBX"
   },
   "outputs": [],
   "source": [
    "density_1996 <- ecount(net1)/(vcount(net1)*(vcount(net1)-1)) # density\n",
    "reciprocity_1996 <- reciprocity(net1)\n",
    "transityivity_1996 <- transitivity(net1, type=\"global\")\n",
    "diameter_1996 <- diameter(net1, directed=F, weights=NA)\n",
    "deg_1996 <- degree(net1, mode=\"all\") \n",
    "hs_1996 <- hub_score(net1, weights=NA)$vector\n",
    "as_1996 <- authority_score(net1, weights=NA)$vector"
   ]
  },
  {
   "cell_type": "markdown",
   "metadata": {
    "id": "uOn4a1nRlivc"
   },
   "source": [
    "### 4.2 Examine network metrics for Amphibian 2016 network"
   ]
  },
  {
   "cell_type": "markdown",
   "metadata": {
    "id": "t6qQBn80g3m3"
   },
   "source": [
    "You have just successfully examined network metrics for the 1996 Amphibian network (net1). Now, do the same thing for the 2016 Amphibian network (net2)"
   ]
  },
  {
   "cell_type": "markdown",
   "metadata": {
    "id": "UvH09cCS6aJ0"
   },
   "source": [
    "**Density**"
   ]
  },
  {
   "cell_type": "code",
   "execution_count": null,
   "metadata": {
    "id": "gDIJ0LLo48pB"
   },
   "outputs": [],
   "source": [
    "density_2016 <- ecount(net2)/(vcount(net2)*(vcount(net2)-1)) # density\n",
    "paste(\"1996: \", density_1996)\n",
    "paste(\"2016: \", density_2016)"
   ]
  },
  {
   "cell_type": "markdown",
   "metadata": {
    "id": "QxDN3FaU6jdv"
   },
   "source": [
    "**Reprocity**"
   ]
  },
  {
   "cell_type": "code",
   "execution_count": null,
   "metadata": {
    "id": "oOmCmNde6hlT"
   },
   "outputs": [],
   "source": [
    "reciprocity_2016 <- reciprocity(net2)\n",
    "paste(\"1996: \", reciprocity_1996)\n",
    "paste(\"2016: \", reciprocity_2016)"
   ]
  },
  {
   "cell_type": "markdown",
   "metadata": {
    "id": "12XM7DJL6ywL"
   },
   "source": [
    "**Transitivity**"
   ]
  },
  {
   "cell_type": "code",
   "execution_count": null,
   "metadata": {
    "id": "PMNO4uJW5LVG"
   },
   "outputs": [],
   "source": [
    "transityivity_2016 <- transitivity(net2, type=\"global\")\n",
    "paste(\"1996: \", transityivity_1996)\n",
    "paste(\"2016: \", transityivity_2016)"
   ]
  },
  {
   "cell_type": "markdown",
   "metadata": {
    "id": "XjiET8CR_19r"
   },
   "source": [
    "**Diameter**"
   ]
  },
  {
   "cell_type": "code",
   "execution_count": null,
   "metadata": {
    "id": "iM4PxWSo_0-z"
   },
   "outputs": [],
   "source": [
    "diameter_2016 <- diameter(net2, directed=F, weights=NA)\n",
    "paste(\"1996: \", diameter_1996)\n",
    "paste(\"2016: \", diameter_2016)"
   ]
  },
  {
   "cell_type": "markdown",
   "metadata": {
    "id": "Gl60wqmo7Fqg"
   },
   "source": [
    "**Node degree**"
   ]
  },
  {
   "cell_type": "code",
   "execution_count": null,
   "metadata": {
    "id": "q1_SOnAO7EfY"
   },
   "outputs": [],
   "source": [
    "deg_2016 <- degree(net2, mode=\"all\")\n",
    "\n",
    "par(mfrow=c(1,2), mar = c(0.1, 0.1, 1, 0.1))  # create a graph with 1 row and 2 columns of plots\n",
    "plot(net1, vertex.size=deg_1996, edge.arrow.size=0.1, main=\"1996\")\n",
    "plot(net2, vertex.size=deg_2016, edge.arrow.size=0.1, main=\"2016\")"
   ]
  },
  {
   "cell_type": "code",
   "execution_count": null,
   "metadata": {
    "id": "iG3J5HiA_PyB"
   },
   "outputs": [],
   "source": [
    "hist(deg_1996, breaks=1:vcount(net2)-1, main=\"1996\")\n",
    "hist(deg_2016, breaks=1:vcount(net2)-1, main=\"2016\")"
   ]
  },
  {
   "cell_type": "markdown",
   "metadata": {
    "id": "YJACLmhX82Ap"
   },
   "source": [
    "**Hubs**"
   ]
  },
  {
   "cell_type": "code",
   "execution_count": null,
   "metadata": {
    "id": "60GQuNWS87UB"
   },
   "outputs": [],
   "source": [
    "hs_2016 <- hub_score(net2, weights=NA)$vector\n",
    "\n",
    "par(mfrow=c(1,2), mar = c(0.1, 0.1, 1, 0.1))  # create a graph with 1 row and 2 columns of plots\n",
    "plot(net1, vertex.size=hs_1996*30, main=\"Hubs 1996\", edge.arrow.size=0.1, vertex.color= rgb(212/255, 175/255, 55/255, 0.6))\n",
    "plot(net2, vertex.size=hs_2016*30, main=\"Hubs 2016\", edge.arrow.size=0.1, vertex.color= rgb(212/255, 175/255, 55/255, 0.6))"
   ]
  },
  {
   "cell_type": "markdown",
   "metadata": {
    "id": "jNmomLmC88p8"
   },
   "source": [
    "**Authorities**"
   ]
  },
  {
   "cell_type": "code",
   "execution_count": null,
   "metadata": {
    "id": "4BDZMXIM8IR5"
   },
   "outputs": [],
   "source": [
    "as_2016 <- authority_score(net2, weights=NA)$vector\n",
    "\n",
    "par(mfrow=c(1,2), mar = c(0.1, 0.1, 1, 0.1))  # create a graph with 1 row and 2 columns of plots\n",
    "plot(net1, vertex.size=as_1996*30, main=\"Authorities 1996\", edge.arrow.size=0.1, vertex.color= rgb(212/255, 175/255, 55/255, 0.6)) \n",
    "plot(net2, vertex.size=as_2016*30, main=\"Authorities 2016\", edge.arrow.size=0.1, vertex.color= rgb(212/255, 175/255, 55/255, 0.6)) "
   ]
  },
  {
   "cell_type": "markdown",
   "metadata": {
    "id": "Ims3I-46hPA5"
   },
   "source": [
    "How are the metrics from 1996 Amphibians (net1) and 2016 (net2) different? "
   ]
  },
  {
   "cell_type": "markdown",
   "metadata": {
    "id": "bO-TENSXhU72"
   },
   "source": [
    "Type in your answer here:"
   ]
  },
  {
   "cell_type": "markdown",
   "metadata": {
    "id": "fp7OiZhEnv_n"
   },
   "source": [
    "## Activity 5: If we have time, compare network metrics with two different subsets of your choice"
   ]
  },
  {
   "cell_type": "markdown",
   "metadata": {
    "id": "UC07M1F7iwlN"
   },
   "source": [
    "*You can pick any two logical subsets to compare, or choose one of the following suggested pairs. Make sure you actually have data by examining the structure of your subsets! hint:\n",
    "table(yoursubset$Year) to see how many entries it has*\n",
    "\n",
    "Don't use entries later than 2016 as data is incomplete\n",
    "\n",
    "\n",
    "Option 1: Insects in 1996 vs Insects in 2015\n",
    "\n",
    "Option 2: African elephants vs Indian elephants\n",
    "\n",
    "Option 3: Tortoises in the 1990s vs Tortoises in the 2000s \n",
    "\n"
   ]
  },
  {
   "cell_type": "code",
   "execution_count": null,
   "metadata": {
    "id": "Dt2ZJmJ8Czlv"
   },
   "outputs": [],
   "source": [
    "###############################################\n",
    "#Option 1: Insects in 1996 vs Insects in 2015\n",
    "###############################################\n",
    "Insect1996 <- subset(cites_data, itis_class == \"Insecta\" & Year == \"1996\")  # Create subset of Insect data from 1996\n",
    "Insect2015 <- subset(cites_data, itis_class == \"Insecta\" & Year == \"2015\")  # Create subset of Insect data from 2015\n",
    "table(Insect1996$Year)\n",
    "table(Insect2015$Year)\n",
    "Ins1 <-create_network(Insect1996) #Create network from 1996 insect data \n",
    "Ins2 <-create_network(Insect2015) #Create network from 2015 insect data \n",
    "par(mfrow=c(1,2), mar = c(0.1, 0.1, 1, 0.1))  # create a graph with 1 row and 2 columns of plots\n",
    "plot_network(Ins1, title=\"Insects 1996\", weight_factor=0.1, layout= layout_on_sphere) #plot graph \n",
    "plot_network(Ins2, title=\"Insects 2015\", weight_factor=0.1, layout= layout_on_sphere) # plot graph"
   ]
  },
  {
   "cell_type": "markdown",
   "metadata": {
    "id": "kzMsE5mXeBnW"
   },
   "source": [
    "What's the difference between the Insect trade in the two years? Number of nodes? Number of shipments? "
   ]
  },
  {
   "cell_type": "markdown",
   "metadata": {
    "id": "5agGVZjQeIYD"
   },
   "source": [
    "Type your answer here:"
   ]
  },
  {
   "cell_type": "markdown",
   "metadata": {
    "id": "EWrTxkSweLla"
   },
   "source": [
    "###5.1 modify the insect code above to answer your own question"
   ]
  },
  {
   "cell_type": "markdown",
   "metadata": {
    "id": "aBLYdYsiCi_n"
   },
   "source": [
    "For those of you who want to code by yourself, ignore my code below and copy and paste the code above and modify"
   ]
  },
  {
   "cell_type": "code",
   "execution_count": null,
   "metadata": {
    "id": "NB83YaWlc6bM"
   },
   "outputs": [],
   "source": []
  },
  {
   "cell_type": "markdown",
   "metadata": {
    "id": "ixiqfx1Tim1-"
   },
   "source": [
    "If you prefer to run my code, let's look at 2 more examples below! "
   ]
  },
  {
   "cell_type": "code",
   "execution_count": null,
   "metadata": {
    "id": "gQwQcxiaj5Rc"
   },
   "outputs": [],
   "source": [
    "###############################################\n",
    "#Option 2: African elephants vs Indian elephants\n",
    "###############################################\n",
    "\n",
    "African <- subset(cites_data, Genus == \"Loxodonta\")\n",
    "Indian <- subset (cites_data, Genus== \"Elephas\")\n",
    "table(African$Year)\n",
    "table(Indian$Year)\n",
    "Loxnet <-create_network(African) \n",
    "Elephasnet <-create_network(Indian) \n",
    "s1 <- subgraph.edges(Loxnet, E(Loxnet)[E(Loxnet)$weight>10], del=F)\n",
    "Loxnet <- delete_vertices(s1, degree(s1, mode = \"in\")==0)\n",
    "s2 <- subgraph.edges(Elephasnet, E(Elephasnet)[E(Elephasnet)$weight>10], del=F)\n",
    "Elephasnet <- delete_vertices(s2, degree(s2, mode = \"in\")==0)\n",
    "par(mfrow=c(1,2), mar = c(0.1, 0.1, 1, 0.1))  # create a graph with 1 row and 2 columns of plots\n",
    "plot_network(Loxnet, title=\"African Elephants\", weight_factor=0.1, layout= layout_on_sphere) #plot graph \n",
    "plot_network(Elephasnet, title=\"Indian Elepahtns\", weight_factor=0.1, layout= layout_on_sphere) # plot graph"
   ]
  },
  {
   "cell_type": "code",
   "execution_count": null,
   "metadata": {
    "id": "198YOHuND2F8"
   },
   "outputs": [],
   "source": [
    "###############################################\n",
    "#Option 3: Tortoises in the 1990s vs Tortoises in the 2000s \n",
    "###############################################\n",
    "Torts90s <- subset(cites_data, Family == \"Testudinidae\" & Year > 1989 & Year < 2000 )\n",
    "Torts20s <- subset(cites_data, Family == \"Testudinidae\" & Year > 1999 & Year < 2010 )\n",
    "table(Torts90s$Year)\n",
    "table(Torts20s$Year)\n",
    "Tortnet1 <-create_network(Torts90s)\n",
    "Tortnet2 <-create_network(Torts20s)\n",
    "s1 <- subgraph.edges(Tortnet1, E(Tortnet1)[E(Tortnet1)$weight>10], del=F)\n",
    "Tortnet1 <- delete_vertices(s1, degree(s1, mode = \"in\")==0)\n",
    "s2 <- subgraph.edges(Tortnet2, E(Tortnet2)[E(Tortnet2)$weight>10], del=F)\n",
    "Tortnet2 <- delete_vertices(s2, degree(s2, mode = \"in\")==0)\n",
    "par(mfrow=c(1,2), mar = c(0.1, 0.1, 1, 0.1))  # create a graph with 1 row and 2 columns of plots\n",
    "plot_network(Tortnet1, title=\"Tortoises 90s\", weight_factor=0.02, layout= layout_on_sphere)\n",
    "plot_network(Tortnet2, title=\"Tortoises 2000s\", weight_factor=0.02, layout= layout_on_sphere)"
   ]
  },
  {
   "cell_type": "markdown",
   "metadata": {
    "Collapsed": "false",
    "id": "bBXAHituuBfW"
   },
   "source": [
    "## References and Further Reading\n",
    "Csardi G, Nepusz T: The igraph software package for complex network research, InterJournal, Complex Systems 1695. 2006.\n",
    "  http://igraph.sf.net\n",
    "\n",
    "Kolaczyk, E.D. and Csárdi, G., 2014. Statistical analysis of network data with R (Vol. 65). New York, NY: Springer.\n",
    "\n",
    "Luke, D.A., 2015. A user's guide to network analysis in R. Cham, Switzerland: Springer.\n",
    "\n",
    "Ognyanova, K. (2016) Network analysis with R and igraph: NetSci X Tutorial. Retrieved from www.kateto.net/networks-r-igraph.\n",
    "\n",
    "Ognyanova, K. (2019) Network visualization with R. Retrieved from www.kateto.net/network-visualization.\n",
    "\n",
    "Ross, Noam, Evan A. Eskew, and Nicolas Ray. 2019. citesdb: A high-performance database of shipment-level CITES trade data. R package v0.2.0. EcoHealth Alliance: New York, NY. https://github.com/ropensci/citesdb. doi:10.5281/zenodo.2630836\n",
    "\n",
    "UNEP-WCMC (Comps.) 2019. Full CITES Trade Database Download. Version 2019.2. CITES Secretariat, Geneva, Switzerland. Compiled by UNEP-WCMC, Cambridge, UK. Available at: https://trade.cites.org.\n",
    "\n"
   ]
  },
  {
   "cell_type": "code",
   "execution_count": null,
   "metadata": {
    "id": "g7jbc-er2jRJ"
   },
   "outputs": [],
   "source": []
  }
 ],
 "metadata": {
  "colab": {
   "collapsed_sections": [],
   "name": "R_Wildlife_Trade_Network_Analysis.ipynb",
   "provenance": [],
   "toc_visible": true
  },
  "kernelspec": {
   "display_name": "R",
   "language": "R",
   "name": "ir"
  },
  "language_info": {
   "codemirror_mode": "r",
   "file_extension": ".r",
   "mimetype": "text/x-r-source",
   "name": "R",
   "pygments_lexer": "r",
   "version": "3.2.3"
  }
 },
 "nbformat": 4,
 "nbformat_minor": 4
}
